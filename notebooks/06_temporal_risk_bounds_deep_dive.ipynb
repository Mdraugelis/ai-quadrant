{
 "cells": [
  {
   "cell_type": "markdown",
   "id": "d44e972c",
   "metadata": {},
   "source": [
    "# Temporal Risk Bounds: Mathematical Deep Dive"
   ]
  },
  {
   "cell_type": "code",
   "execution_count": null,
   "id": "bbe91da9",
   "metadata": {},
   "outputs": [],
   "source": [
    "import os, sys\n",
    "sys.path.insert(0, os.path.join(os.path.dirname(os.getcwd()), 'src'))"
   ]
  },
  {
   "cell_type": "code",
   "execution_count": null,
   "id": "d18ac249",
   "metadata": {},
   "outputs": [],
   "source": [
    "import numpy as np\n",
    "from pop_ml_simulator import assign_patient_risks, EnhancedTemporalRiskSimulator\n",
    "\n",
    "np.random.seed(0)\n",
    "base_risks = assign_patient_risks(1000, 0.1, random_seed=0)\n",
    "sim = EnhancedTemporalRiskSimulator(base_risks)\n",
    "risks = [sim.step() for _ in range(10)]\n",
    "print(f\"Max risk: {np.max(risks):.3f}\")"
   ]
  }
 ],
 "metadata": {},
 "nbformat": 4,
 "nbformat_minor": 5
}
